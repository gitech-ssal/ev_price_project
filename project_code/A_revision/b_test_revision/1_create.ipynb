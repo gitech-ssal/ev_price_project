{
 "cells": [
  {
   "cell_type": "code",
   "execution_count": 1,
   "metadata": {},
   "outputs": [],
   "source": [
    "# ----------------------------------------------------------------------------------------------------\n",
    "# 라이브러리 목록\n",
    "\n",
    "# 기본 라이브러리 \n",
    "import pandas as pd\n",
    "\n",
    "# 개인 라이브러리 \n",
    "from preparation_for_analysis.show_window import DataVisualizer\n",
    "\n",
    "# pandas 설정\n",
    "pd.set_option('display.max_rows', None)  # 모든 행 출력\n",
    "pd.set_option('display.max_columns', None)  # 모든 열 출력\n",
    "\n",
    "# preparation_for_analysis 설정\n",
    "visualizer = DataVisualizer(line=\"=\", length=100, start=\"#\")\n",
    "# ----------------------------------------------------------------------------------------------------"
   ]
  },
  {
   "cell_type": "code",
   "execution_count": 4,
   "metadata": {},
   "outputs": [
    {
     "name": "stdout",
     "output_type": "stream",
     "text": [
      "====================================================================================================\n",
      "\n",
      "# Title: test.info\n",
      "\n",
      "====================================================================================================\n",
      "\n",
      "# DataFrame Information:\n",
      "\n",
      "<class 'pandas.core.frame.DataFrame'>\n",
      "RangeIndex: 846 entries, 0 to 845\n",
      "Data columns (total 10 columns):\n",
      " #   Column        Non-Null Count  Dtype  \n",
      "---  ------        --------------  -----  \n",
      " 0   Id            846 non-null    object \n",
      " 1   Manufacturer  846 non-null    object \n",
      " 2   Model         846 non-null    object \n",
      " 3   Condition     846 non-null    object \n",
      " 4   Battery       542 non-null    float64\n",
      " 5   Drivetrain    846 non-null    object \n",
      " 6   Mileage       846 non-null    int64  \n",
      " 7   Warranty      846 non-null    int64  \n",
      " 8   Accident      846 non-null    object \n",
      " 9   Model_year    846 non-null    int64  \n",
      "dtypes: float64(1), int64(3), object(6)\n",
      "memory usage: 66.2+ KB\n",
      "\n",
      "====================================================================================================\n",
      "\n",
      "\n",
      "\n",
      "\n"
     ]
    }
   ],
   "source": [
    "# ----------------------------------------------------------------------------------------------------\n",
    "# test 데이터 불러오기\n",
    "test = pd.read_csv(filepath_or_buffer=\"C:\\\\Users\\\\ssalt\\\\Documents\\\\ev_price_predict_project\\\\data\\\\test\\\\A_df\\\\a_original\\\\1_test.csv\",\n",
    "                   sep=\",\",\n",
    "                   header=0,\n",
    "                   names=[\"Id\",\"Manufacturer\",\"Model\",\"Condition\",\n",
    "                          \"Battery\",\"Drivetrain\",\"Mileage\",\"Warranty\",\n",
    "                          \"Accident\",\"Model_year\"],\n",
    "                   index_col=None,\n",
    "                   na_values=None,\n",
    "                   skiprows=None)\n",
    "\n",
    "# test 정보 확인하기\n",
    "visualizer.show_df_info(title=\"test.info\", df=test) \n",
    "# ----------------------------------------------------------------------------------------------------"
   ]
  },
  {
   "cell_type": "code",
   "execution_count": 5,
   "metadata": {},
   "outputs": [],
   "source": [
    "# ----------------------------------------------------------------------------------------------------\n",
    "# 컬럼 순서 바꾸기\n",
    "test = test[[\"Id\",\"Model\",\"Manufacturer\",\"Model_year\",\"Drivetrain\",\"Warranty\",\"Accident\",\"Condition\",\"Battery\",\"Mileage\"]]\n",
    "# ----------------------------------------------------------------------------------------------------"
   ]
  },
  {
   "cell_type": "code",
   "execution_count": 6,
   "metadata": {},
   "outputs": [
    {
     "name": "stdout",
     "output_type": "stream",
     "text": [
      "====================================================================================================\n",
      "\n",
      "# Title: test.info\n",
      "\n",
      "====================================================================================================\n",
      "\n",
      "# DataFrame Information:\n",
      "\n",
      "<class 'pandas.core.frame.DataFrame'>\n",
      "RangeIndex: 846 entries, 0 to 845\n",
      "Data columns (total 10 columns):\n",
      " #   Column        Non-Null Count  Dtype  \n",
      "---  ------        --------------  -----  \n",
      " 0   Id            846 non-null    object \n",
      " 1   Model         846 non-null    object \n",
      " 2   Manufacturer  846 non-null    object \n",
      " 3   Model_year    846 non-null    int64  \n",
      " 4   Drivetrain    846 non-null    object \n",
      " 5   Warranty      846 non-null    int64  \n",
      " 6   Accident      846 non-null    object \n",
      " 7   Condition     846 non-null    object \n",
      " 8   Battery       542 non-null    float64\n",
      " 9   Mileage       846 non-null    int64  \n",
      "dtypes: float64(1), int64(3), object(6)\n",
      "memory usage: 66.2+ KB\n",
      "\n",
      "====================================================================================================\n",
      "\n",
      "\n",
      "\n",
      "\n"
     ]
    }
   ],
   "source": [
    "# ----------------------------------------------------------------------------------------------------\n",
    "# test 정보 확인 \n",
    "visualizer.show_df_info(title=\"test.info\", df=test)\n",
    "# ----------------------------------------------------------------------------------------------------"
   ]
  },
  {
   "cell_type": "code",
   "execution_count": 7,
   "metadata": {},
   "outputs": [],
   "source": [
    "# ----------------------------------------------------------------------------------------------------\n",
    "# revision으로 저장\n",
    "test.to_csv(path_or_buf=\"C:\\\\Users\\\\ssalt\\\\Documents\\\\ev_price_predict_project\\\\data\\\\test\\\\A_df\\\\b_revision\\\\1_revision.csv\",\n",
    "            index=False)\n",
    "# ----------------------------------------------------------------------------------------------------"
   ]
  }
 ],
 "metadata": {
  "kernelspec": {
   "display_name": "py3",
   "language": "python",
   "name": "python3"
  },
  "language_info": {
   "codemirror_mode": {
    "name": "ipython",
    "version": 3
   },
   "file_extension": ".py",
   "mimetype": "text/x-python",
   "name": "python",
   "nbconvert_exporter": "python",
   "pygments_lexer": "ipython3",
   "version": "3.12.8"
  }
 },
 "nbformat": 4,
 "nbformat_minor": 2
}
