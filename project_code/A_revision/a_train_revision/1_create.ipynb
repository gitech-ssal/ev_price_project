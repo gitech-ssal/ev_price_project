{
 "cells": [
  {
   "cell_type": "code",
   "execution_count": 1,
   "metadata": {},
   "outputs": [],
   "source": [
    "# ----------------------------------------------------------------------------------------------------\n",
    "# 라이브러리 목록\n",
    "\n",
    "# 기본 라이브러리 \n",
    "import numpy as np\n",
    "import pandas as pd\n",
    "from scipy import stats\n",
    "\n",
    "# 개인 라이브러리 \n",
    "from preparation_for_analysis.show_window import DataVisualizer\n",
    "from preparation_for_analysis.outlier import OutlierHandler\n",
    "\n",
    "# pandas 설정\n",
    "pd.set_option('display.max_rows', None)  # 모든 행 출력\n",
    "pd.set_option('display.max_columns', None)  # 모든 열 출력\n",
    "\n",
    "# preparation_for_analysis 설정\n",
    "visualizer = DataVisualizer(line=\"=\", length=100, start=\"#\")\n",
    "# ----------------------------------------------------------------------------------------------------"
   ]
  },
  {
   "cell_type": "code",
   "execution_count": 2,
   "metadata": {},
   "outputs": [
    {
     "name": "stdout",
     "output_type": "stream",
     "text": [
      "====================================================================================================\n",
      "\n",
      "# Title: train.info\n",
      "\n",
      "====================================================================================================\n",
      "\n",
      "# DataFrame Information:\n",
      "\n",
      "<class 'pandas.core.frame.DataFrame'>\n",
      "RangeIndex: 7497 entries, 0 to 7496\n",
      "Data columns (total 11 columns):\n",
      " #   Column        Non-Null Count  Dtype  \n",
      "---  ------        --------------  -----  \n",
      " 0   Id            7497 non-null   object \n",
      " 1   Manufacturer  7497 non-null   object \n",
      " 2   Model         7497 non-null   object \n",
      " 3   Condition     7497 non-null   object \n",
      " 4   Battery       4786 non-null   float64\n",
      " 5   Drivetrain    7497 non-null   object \n",
      " 6   Mileage       7497 non-null   int64  \n",
      " 7   Warranty      7497 non-null   int64  \n",
      " 8   Accident      7497 non-null   object \n",
      " 9   Model_year    7497 non-null   int64  \n",
      " 10  Price         7497 non-null   float64\n",
      "dtypes: float64(2), int64(3), object(6)\n",
      "memory usage: 644.4+ KB\n",
      "\n",
      "====================================================================================================\n",
      "\n",
      "\n",
      "\n",
      "\n"
     ]
    }
   ],
   "source": [
    "# ----------------------------------------------------------------------------------------------------\n",
    "# train 데이터 불러오기\n",
    "train = pd.read_csv(filepath_or_buffer=\"C:\\\\Users\\\\ssalt\\\\Documents\\\\ev_price_predict_project\\\\data\\\\train\\\\A_df\\\\a_original\\\\1_train.csv\",\n",
    "                    sep=\",\",\n",
    "                    header=0,\n",
    "                    names=[\"Id\",\"Manufacturer\",\"Model\",\"Condition\",\n",
    "                           \"Battery\",\"Drivetrain\",\"Mileage\",\"Warranty\",\n",
    "                           \"Accident\",\"Model_year\",\"Price\"],\n",
    "                    index_col=None,\n",
    "                    na_values=None,\n",
    "                    skiprows=None)\n",
    "\n",
    "# train 정보 확인하기\n",
    "visualizer.show_df_info(title=\"train.info\", df=train) \n",
    "# ----------------------------------------------------------------------------------------------------"
   ]
  },
  {
   "cell_type": "code",
   "execution_count": 3,
   "metadata": {},
   "outputs": [],
   "source": [
    "# ----------------------------------------------------------------------------------------------------\n",
    "# 컬럼 순서 바꾸기\n",
    "train = train[[\"Id\",\"Model\",\"Manufacturer\",\"Model_year\",\"Drivetrain\",\"Warranty\",\"Accident\",\"Condition\",\"Battery\",\"Mileage\",\"Price\"]]\n",
    "# ----------------------------------------------------------------------------------------------------"
   ]
  },
  {
   "cell_type": "code",
   "execution_count": 4,
   "metadata": {},
   "outputs": [],
   "source": [
    "# ----------------------------------------------------------------------------------------------------\n",
    "# revision으로 저장\n",
    "train.to_csv(path_or_buf=\"C:\\\\Users\\\\ssalt\\\\Documents\\\\ev_price_predict_project\\\\data\\\\train\\\\A_df\\\\b_revision\\\\1_revision.csv\",\n",
    "             index=False)\n",
    "# ----------------------------------------------------------------------------------------------------"
   ]
  }
 ],
 "metadata": {
  "kernelspec": {
   "display_name": "py3",
   "language": "python",
   "name": "python3"
  },
  "language_info": {
   "codemirror_mode": {
    "name": "ipython",
    "version": 3
   },
   "file_extension": ".py",
   "mimetype": "text/x-python",
   "name": "python",
   "nbconvert_exporter": "python",
   "pygments_lexer": "ipython3",
   "version": "3.12.8"
  }
 },
 "nbformat": 4,
 "nbformat_minor": 2
}
