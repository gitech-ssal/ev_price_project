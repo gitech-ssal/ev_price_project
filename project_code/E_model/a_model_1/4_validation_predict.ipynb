{
 "cells": [
  {
   "cell_type": "code",
   "execution_count": 12,
   "metadata": {},
   "outputs": [],
   "source": [
    "# ----------------------------------------------------------------------------------------------------\n",
    "# 라이브러리 목록\n",
    "# 기본 라이브러리 \n",
    "import math\n",
    "import numpy as np\n",
    "import pandas as pd\n",
    "\n",
    "# torch 라이브러리 \n",
    "import torch\n",
    "from torch.utils.data import DataLoader, TensorDataset\n",
    "\n",
    "# pandas 설정\n",
    "pd.set_option('display.max_rows', None)  # 모든 행 출력\n",
    "pd.set_option('display.max_columns', None)  # 모든 열 출력\n",
    "\n",
    "# 개인 라이브러리  \n",
    "from preparation_for_analysis.show_window import DataVisualizer\n",
    "from preparation_for_analysis.model_1 import LinearRegression\n",
    "\n",
    "# preparation_for_analysis 설정\n",
    "visualizer = DataVisualizer(line=\"=\", length=100, start=\"#\")\n",
    "# ----------------------------------------------------------------------------------------------------"
   ]
  },
  {
   "cell_type": "code",
   "execution_count": 17,
   "metadata": {},
   "outputs": [
    {
     "name": "stdout",
     "output_type": "stream",
     "text": [
      "====================================================================================================\n",
      "\n",
      "# Title: new_learning.info\n",
      "\n",
      "====================================================================================================\n",
      "\n",
      "# DataFrame Information:\n",
      "\n",
      "<class 'pandas.core.frame.DataFrame'>\n",
      "RangeIndex: 6372 entries, 0 to 6371\n",
      "Data columns (total 11 columns):\n",
      " #   Column        Non-Null Count  Dtype  \n",
      "---  ------        --------------  -----  \n",
      " 0   Cluster       6372 non-null   int64  \n",
      " 1   Model         6372 non-null   object \n",
      " 2   Manufacturer  6372 non-null   object \n",
      " 3   Model_year    6372 non-null   object \n",
      " 4   Drivetrain    6372 non-null   object \n",
      " 5   Warranty      6372 non-null   object \n",
      " 6   Accident      6372 non-null   object \n",
      " 7   Condition     6372 non-null   object \n",
      " 8   Battery       6372 non-null   float64\n",
      " 9   Mileage       6372 non-null   int64  \n",
      " 10  Price         6372 non-null   float64\n",
      "dtypes: float64(2), int64(2), object(7)\n",
      "memory usage: 547.7+ KB\n",
      "\n",
      "====================================================================================================\n",
      "\n",
      "\n",
      "\n",
      "\n"
     ]
    }
   ],
   "source": [
    "# ----------------------------------------------------------------------------------------------------\n",
    "# new_learning 불러오기 \n",
    "new_learning = pd.read_csv(\"C:\\\\Users\\\\ssalt\\\\Documents\\\\ev_price_predict_project\\\\data\\\\train\\\\A_df\\\\c_learning\\\\2_new_learning.csv\",\n",
    "                       sep=\",\",\n",
    "                       header=0)\n",
    "\n",
    "visualizer.show_df_info(title=\"new_learning.info\", df=new_learning)\n",
    "# -----------------------------------------------------------------------------------------------------"
   ]
  },
  {
   "cell_type": "code",
   "execution_count": 18,
   "metadata": {},
   "outputs": [
    {
     "name": "stdout",
     "output_type": "stream",
     "text": [
      "====================================================================================================\n",
      "\n",
      "# Title: new_validation.info\n",
      "\n",
      "====================================================================================================\n",
      "\n",
      "# DataFrame Information:\n",
      "\n",
      "<class 'pandas.core.frame.DataFrame'>\n",
      "RangeIndex: 1125 entries, 0 to 1124\n",
      "Data columns (total 11 columns):\n",
      " #   Column        Non-Null Count  Dtype  \n",
      "---  ------        --------------  -----  \n",
      " 0   Cluster       1125 non-null   int64  \n",
      " 1   Model         1125 non-null   object \n",
      " 2   Manufacturer  1125 non-null   object \n",
      " 3   Model_year    1125 non-null   object \n",
      " 4   Drivetrain    1125 non-null   object \n",
      " 5   Warranty      1125 non-null   object \n",
      " 6   Accident      1125 non-null   object \n",
      " 7   Condition     1125 non-null   object \n",
      " 8   Battery       1125 non-null   float64\n",
      " 9   Mileage       1125 non-null   int64  \n",
      " 10  Price         1125 non-null   float64\n",
      "dtypes: float64(2), int64(2), object(7)\n",
      "memory usage: 96.8+ KB\n",
      "\n",
      "====================================================================================================\n",
      "\n",
      "\n",
      "\n",
      "\n"
     ]
    }
   ],
   "source": [
    "# ----------------------------------------------------------------------------------------------------\n",
    "# new_validation 불러오기 \n",
    "new_validation = pd.read_csv(\n",
    "    \"C:\\\\Users\\\\ssalt\\\\Documents\\\\ev_price_predict_project\\\\data\\\\train\\\\A_df\\\\d_validation\\\\2_new_validation.csv\",\n",
    "    sep=\",\",\n",
    "    header=0\n",
    ")\n",
    "\n",
    "visualizer.show_df_info(title=\"new_validation.info\", df=new_validation)\n",
    "# ---------------------------------------------------------------------------------------------------"
   ]
  },
  {
   "cell_type": "code",
   "execution_count": 19,
   "metadata": {},
   "outputs": [
    {
     "name": "stdout",
     "output_type": "stream",
     "text": [
      "====================================================================================================\n",
      "\n",
      "# Title: new_validation_encoding\n",
      "\n",
      "====================================================================================================\n",
      "\n",
      "# DataFrame Information:\n",
      "\n",
      "<class 'pandas.core.frame.DataFrame'>\n",
      "RangeIndex: 1125 entries, 0 to 1124\n",
      "Columns: 168 entries, c0 to Price\n",
      "dtypes: float32(168)\n",
      "memory usage: 738.4 KB\n",
      "\n",
      "====================================================================================================\n",
      "\n",
      "\n",
      "\n",
      "\n"
     ]
    }
   ],
   "source": [
    "# ----------------------------------------------------------------------------------------------------\n",
    "# new_validation_encoding 불러오기 \n",
    "new_validation_encoding = pd.read_csv(\n",
    "    \"C:\\\\Users\\\\ssalt\\\\Documents\\\\ev_price_predict_project\\\\data\\\\train\\\\A_df\\\\d_validation\\\\3_new_validation_encoding.csv\",\n",
    "    sep=\",\",\n",
    "    header=0\n",
    "    )\n",
    "\n",
    "new_validation_encoding = new_validation_encoding.astype(\"float32\")\n",
    "visualizer.show_df_info(title=\"new_validation_encoding\", df=new_validation_encoding)\n",
    "# ----------------------------------------------------------------------------------------------------"
   ]
  },
  {
   "cell_type": "code",
   "execution_count": 20,
   "metadata": {},
   "outputs": [
    {
     "name": "stdout",
     "output_type": "stream",
     "text": [
      "Model loaded from C:\\Users\\ssalt\\Documents\\ev_price_predict_project\\data\\train\\B_models\\a_model_1\\best_model.pth.\n"
     ]
    }
   ],
   "source": [
    "# ----------------------------------------------------------------------------------------------------\n",
    "# model_1 불러오기 \n",
    "model = LinearRegression(input_dim=167, output_dim=1, \n",
    "                         continue_logging=True, initalize_weights=False)\n",
    "\n",
    "model.load_model()\n",
    "# ----------------------------------------------------------------------------------------------------"
   ]
  },
  {
   "cell_type": "code",
   "execution_count": 21,
   "metadata": {},
   "outputs": [
    {
     "name": "stderr",
     "output_type": "stream",
     "text": [
      "                                                         "
     ]
    },
    {
     "name": "stdout",
     "output_type": "stream",
     "text": [
      "====================================================================================================\n",
      "\n",
      "# Title: new_validation\n",
      "\n",
      "====================================================================================================\n",
      "\n",
      "# DataFrame Information:\n",
      "\n",
      "<class 'pandas.core.frame.DataFrame'>\n",
      "RangeIndex: 1125 entries, 0 to 1124\n",
      "Data columns (total 12 columns):\n",
      " #   Column        Non-Null Count  Dtype  \n",
      "---  ------        --------------  -----  \n",
      " 0   Cluster       1125 non-null   int64  \n",
      " 1   Model         1125 non-null   object \n",
      " 2   Manufacturer  1125 non-null   object \n",
      " 3   Model_year    1125 non-null   object \n",
      " 4   Drivetrain    1125 non-null   object \n",
      " 5   Warranty      1125 non-null   object \n",
      " 6   Accident      1125 non-null   object \n",
      " 7   Condition     1125 non-null   object \n",
      " 8   Battery       1125 non-null   float64\n",
      " 9   Mileage       1125 non-null   int64  \n",
      " 10  Model_1       1125 non-null   float64\n",
      " 11  Price         1125 non-null   float64\n",
      "dtypes: float64(3), int64(2), object(7)\n",
      "memory usage: 105.6+ KB\n",
      "\n",
      "====================================================================================================\n",
      "\n",
      "\n",
      "\n",
      "\n"
     ]
    },
    {
     "name": "stderr",
     "output_type": "stream",
     "text": [
      "\r"
     ]
    }
   ],
   "source": [
    "# ----------------------------------------------------------------------------------------------------\n",
    "# (\"Price\"컬럼 로그 변환 했을 때)\n",
    "# 데이터 준비하기\n",
    "new_validation_encoding = new_validation_encoding.iloc[:,:-1]\n",
    "\n",
    "# validation_encoding 텐서로 바꾸기 \n",
    "\n",
    "# validation_encoding을 텐서로\n",
    "tensor_input = torch.tensor(new_validation_encoding.to_numpy(), dtype=torch.float32)\n",
    "dataset_input = TensorDataset(tensor_input)\n",
    "dataloader_input = DataLoader(dataset_input, batch_size=750, shuffle=False)\n",
    "\n",
    "# 모델 예측 수행\n",
    "predictions = model.predict(dataloader_input)\n",
    "\n",
    "# 예측값을 DataFrame의 \"Price\" 컬럼에 저장\n",
    "new_validation[\"Model_1\"] = predictions\n",
    "\n",
    "# 원래의 가격으로 변환 \n",
    "new_validation[\"Model_1\"] = new_validation[\"Model_1\"].apply(lambda x: np.expm1(x))\n",
    "\n",
    "# 소수점 두 자리로 제한\n",
    "new_validation[\"Model_1\"] = new_validation[\"Model_1\"].apply(lambda x: math.floor(x * 100) / 100)\n",
    "\n",
    "# 컬럼 순서 재정렬\n",
    "new_validation = new_validation[\n",
    "    [\"Cluster\",\"Model\",\"Manufacturer\",\"Model_year\",\"Drivetrain\",\n",
    "     \"Warranty\",\"Accident\",\"Condition\",\"Battery\",\"Mileage\",\n",
    "     \"Model_1\",\"Price\"]\n",
    "]\n",
    "\n",
    "# DataFrame 정보를 시각화\n",
    "visualizer.show_df_info(title=\"new_validation\", df=new_validation)\n",
    "# ----------------------------------------------------------------------------------------------------"
   ]
  },
  {
   "cell_type": "code",
   "execution_count": 22,
   "metadata": {},
   "outputs": [],
   "source": [
    "# ----------------------------------------------------------------------------------------------------\n",
    "# new_validation_predict로 저장 \n",
    "new_validation.to_csv(\"C:\\\\Users\\\\ssalt\\\\Documents\\\\ev_price_predict_project\\\\data\\\\train\\\\A_df\\\\e_model\\\\model_1\\\\3_new_validation_predict.csv\",\n",
    "                      index=False)\n",
    "# ----------------------------------------------------------------------------------------------------"
   ]
  }
 ],
 "metadata": {
  "kernelspec": {
   "display_name": "py3",
   "language": "python",
   "name": "python3"
  },
  "language_info": {
   "codemirror_mode": {
    "name": "ipython",
    "version": 3
   },
   "file_extension": ".py",
   "mimetype": "text/x-python",
   "name": "python",
   "nbconvert_exporter": "python",
   "pygments_lexer": "ipython3",
   "version": "3.12.8"
  }
 },
 "nbformat": 4,
 "nbformat_minor": 2
}
