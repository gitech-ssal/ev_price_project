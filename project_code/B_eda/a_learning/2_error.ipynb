{
 "cells": [
  {
   "cell_type": "code",
   "execution_count": 1,
   "metadata": {},
   "outputs": [],
   "source": [
    "# ----------------------------------------------------------------------------------------------------\n",
    "# 라이브러리 목록\n",
    "\n",
    "# 기본 라이브러리 \n",
    "import pandas as pd\n",
    "\n",
    "# 개인 라이브러리 \n",
    "from preparation_for_analysis.show_window import DataVisualizer\n",
    "\n",
    "# pandas 설정\n",
    "pd.set_option('display.max_rows', None)  # 모든 행 출력\n",
    "pd.set_option('display.max_columns', None)  # 모든 열 출력\n",
    "\n",
    "# preparation_for_analysis 설정\n",
    "visualizer = DataVisualizer(line=\"=\", length=100, start=\"#\")\n",
    "# ----------------------------------------------------------------------------------------------------"
   ]
  },
  {
   "cell_type": "code",
   "execution_count": 2,
   "metadata": {},
   "outputs": [
    {
     "name": "stdout",
     "output_type": "stream",
     "text": [
      "====================================================================================================\n",
      "\n",
      "# Title: learning.info\n",
      "\n",
      "====================================================================================================\n",
      "\n",
      "# DataFrame Information:\n",
      "\n",
      "<class 'pandas.core.frame.DataFrame'>\n",
      "RangeIndex: 6747 entries, 0 to 6746\n",
      "Data columns (total 11 columns):\n",
      " #   Column        Non-Null Count  Dtype  \n",
      "---  ------        --------------  -----  \n",
      " 0   Id            6747 non-null   object \n",
      " 1   Model         6747 non-null   object \n",
      " 2   Manufacturer  6747 non-null   object \n",
      " 3   Model_year    6747 non-null   int64  \n",
      " 4   Drivetrain    6747 non-null   object \n",
      " 5   Warranty      6747 non-null   int64  \n",
      " 6   Accident      6747 non-null   object \n",
      " 7   Condition     6747 non-null   object \n",
      " 8   Battery       4311 non-null   float64\n",
      " 9   Mileage       6747 non-null   int64  \n",
      " 10  Price         6747 non-null   float64\n",
      "dtypes: float64(2), int64(3), object(6)\n",
      "memory usage: 579.9+ KB\n",
      "\n",
      "====================================================================================================\n",
      "\n",
      "\n",
      "\n",
      "\n"
     ]
    }
   ],
   "source": [
    "# ----------------------------------------------------------------------------------------------------\n",
    "# learning 불러오기 \n",
    "learning = pd.read_csv(\n",
    "    \"C:\\\\Users\\\\ssalt\\\\Documents\\\\ev_price_predict_project\\\\data\\\\train\\\\A_df\\\\c_learning\\\\1_learning.csv\",\n",
    "    sep=\",\",\n",
    "    header=0\n",
    ")\n",
    "\n",
    "visualizer.show_df_info(title=\"learning.info\", df=learning)\n",
    "# ----------------------------------------------------------------------------------------------------"
   ]
  },
  {
   "cell_type": "code",
   "execution_count": 4,
   "metadata": {},
   "outputs": [
    {
     "name": "stdout",
     "output_type": "stream",
     "text": [
      "====================================================================================================\n",
      "\n",
      "# Title: Model Categorization\n",
      "\n",
      "====================================================================================================\n",
      "\n",
      "# Data:\n",
      "\n",
      "     Model  count\n",
      "0      EV6    332\n",
      "1      ID4    538\n",
      "2     ION5    311\n",
      "3     ION6    352\n",
      "4    IONIQ    127\n",
      "5      KNE    327\n",
      "6       M3    249\n",
      "7       MS    253\n",
      "8       MX    234\n",
      "9       MY    253\n",
      "10    Niro    361\n",
      "11    Q4eT    337\n",
      "12  RSeTGT    341\n",
      "13    Soul    363\n",
      "14     Tay    323\n",
      "15   TayCT    310\n",
      "16  TayGTS    335\n",
      "17      eT    341\n",
      "18      i3    353\n",
      "19      i5    375\n",
      "20      iX    332\n",
      "\n",
      "====================================================================================================\n",
      "\n",
      "\n",
      "\n",
      "\n"
     ]
    }
   ],
   "source": [
    "# ----------------------------------------------------------------------------------------------------\n",
    "# \"Model\"컬럼 오류값 검사 \n",
    "\n",
    "# 범주화를 통해 오류값 검사\n",
    "result = learning[\"Model\"].value_counts().reset_index()\n",
    "\n",
    "result.sort_values(by=\"Model\",\n",
    "                   ascending=True,\n",
    "                   ignore_index=True,\n",
    "                   inplace=True)\n",
    "\n",
    "# 범주값 출력 / 오류값 없음 \n",
    "visualizer.show_data(title=\"Model Categorization\", data=result)\n",
    "# ----------------------------------------------------------------------------------------------------"
   ]
  },
  {
   "cell_type": "code",
   "execution_count": 5,
   "metadata": {},
   "outputs": [
    {
     "name": "stdout",
     "output_type": "stream",
     "text": [
      "====================================================================================================\n",
      "\n",
      "# Title: Manufacturer Categorization\n",
      "\n",
      "====================================================================================================\n",
      "\n",
      "# Data:\n",
      "\n",
      "  Manufacturer  count\n",
      "0           A사   1019\n",
      "1           B사   1060\n",
      "2           H사   1117\n",
      "3           K사   1056\n",
      "4           P사    968\n",
      "5           T사    989\n",
      "6           V사    538\n",
      "\n",
      "====================================================================================================\n",
      "\n",
      "\n",
      "\n",
      "\n"
     ]
    }
   ],
   "source": [
    "# ----------------------------------------------------------------------------------------------------\n",
    "# \"Manufacturer\"컬럼 오류값 검사 \n",
    "\n",
    "# 범주화를 통해 오류값 검사\n",
    "result = learning[\"Manufacturer\"].value_counts().reset_index()\n",
    "\n",
    "result.sort_values(by=\"Manufacturer\",\n",
    "                   ascending=True,\n",
    "                   ignore_index=True,\n",
    "                   inplace=True)\n",
    "\n",
    "# 범주값 출력 / 오류값 없음 \n",
    "visualizer.show_data(title=\"Manufacturer Categorization\", data=result)\n",
    "# ----------------------------------------------------------------------------------------------------"
   ]
  },
  {
   "cell_type": "code",
   "execution_count": 6,
   "metadata": {},
   "outputs": [
    {
     "name": "stdout",
     "output_type": "stream",
     "text": [
      "====================================================================================================\n",
      "\n",
      "# Title: (Manufacturer, Model) Categorization\n",
      "\n",
      "====================================================================================================\n",
      "\n",
      "# Data:\n",
      "\n",
      "   Manufacturer   Model  count\n",
      "0            A사    Q4eT    337\n",
      "1            A사  RSeTGT    341\n",
      "2            A사      eT    341\n",
      "3            B사      i3    353\n",
      "4            B사      i5    375\n",
      "5            B사      iX    332\n",
      "6            H사    ION5    311\n",
      "7            H사    ION6    352\n",
      "8            H사   IONIQ    127\n",
      "9            H사     KNE    327\n",
      "10           K사     EV6    332\n",
      "11           K사    Niro    361\n",
      "12           K사    Soul    363\n",
      "13           P사     Tay    323\n",
      "14           P사   TayCT    310\n",
      "15           P사  TayGTS    335\n",
      "16           T사      M3    249\n",
      "17           T사      MS    253\n",
      "18           T사      MX    234\n",
      "19           T사      MY    253\n",
      "20           V사     ID4    538\n",
      "\n",
      "====================================================================================================\n",
      "\n",
      "\n",
      "\n",
      "\n"
     ]
    }
   ],
   "source": [
    "# ----------------------------------------------------------------------------------------------------\n",
    "# \"Manufacturer\", \"Model\"컬럼 오류값 검사 \n",
    "# 제조사와 모델이 일치하는지 확인 필요 \n",
    "\n",
    "# 범주화를 통해 오류값 검사\n",
    "result = learning.loc[:,[\"Manufacturer\",\"Model\"]].value_counts().reset_index()\n",
    "\n",
    "result.sort_values(by=[\"Manufacturer\",\"Model\"],\n",
    "                   ascending=True,\n",
    "                   ignore_index=True,\n",
    "                   inplace=True)\n",
    "\n",
    "# 범주값 출력 / 오류값 없음 \n",
    "visualizer.show_data(title=\"(Manufacturer, Model) Categorization\", data=result)\n",
    "# ----------------------------------------------------------------------------------------------------"
   ]
  },
  {
   "cell_type": "code",
   "execution_count": 7,
   "metadata": {},
   "outputs": [
    {
     "name": "stdout",
     "output_type": "stream",
     "text": [
      "====================================================================================================\n",
      "\n",
      "# Title: Model_year Categorization\n",
      "\n",
      "====================================================================================================\n",
      "\n",
      "# Data:\n",
      "\n",
      "   Model_year  count\n",
      "0           0   5743\n",
      "1           1    483\n",
      "2           2    521\n",
      "\n",
      "====================================================================================================\n",
      "\n",
      "\n",
      "\n",
      "\n"
     ]
    }
   ],
   "source": [
    "# ----------------------------------------------------------------------------------------------------\n",
    "# \"Model_year\"컬럼 오류값 검사 \n",
    "\n",
    "# 범주화를 통해 오류값 검사\n",
    "result = learning[\"Model_year\"].value_counts().reset_index()\n",
    "\n",
    "result.sort_values(by=\"Model_year\",\n",
    "                   ascending=True,\n",
    "                   ignore_index=True,\n",
    "                   inplace=True)\n",
    "\n",
    "# 범주값 출력 / 오류값 없음 \n",
    "visualizer.show_data(title=\"Model_year Categorization\", data=result)\n",
    "# ----------------------------------------------------------------------------------------------------"
   ]
  },
  {
   "cell_type": "code",
   "execution_count": 8,
   "metadata": {},
   "outputs": [
    {
     "name": "stdout",
     "output_type": "stream",
     "text": [
      "====================================================================================================\n",
      "\n",
      "# Title: Drivetrain Categorization\n",
      "\n",
      "====================================================================================================\n",
      "\n",
      "# Data:\n",
      "\n",
      "  Drivetrain  count\n",
      "0        AWD   4629\n",
      "1        FWD   1156\n",
      "2        RWD    962\n",
      "\n",
      "====================================================================================================\n",
      "\n",
      "\n",
      "\n",
      "\n"
     ]
    }
   ],
   "source": [
    "# ----------------------------------------------------------------------------------------------------\n",
    "# \"Drivetrain\"컬럼 오류값 검사 \n",
    "\n",
    "# 범주화를 통해 오류값 검사\n",
    "result = learning[\"Drivetrain\"].value_counts().reset_index()\n",
    "\n",
    "result.sort_values(by=\"Drivetrain\",\n",
    "                   ascending=True,\n",
    "                   ignore_index=True,\n",
    "                   inplace=True)\n",
    "\n",
    "# 범주값 출력 / 오류값 없음 \n",
    "visualizer.show_data(title=\"Drivetrain Categorization\", data=result)\n",
    "# ----------------------------------------------------------------------------------------------------"
   ]
  },
  {
   "cell_type": "code",
   "execution_count": 9,
   "metadata": {},
   "outputs": [
    {
     "name": "stdout",
     "output_type": "stream",
     "text": [
      "====================================================================================================\n",
      "\n",
      "# Title: Warranty Categorization\n",
      "\n",
      "====================================================================================================\n",
      "\n",
      "# Data:\n",
      "\n",
      "    Warranty  count\n",
      "0          0    555\n",
      "1          1    494\n",
      "2          2   1231\n",
      "3          3    449\n",
      "4          4    382\n",
      "5          5    382\n",
      "6          6    383\n",
      "7          7    986\n",
      "8          8    956\n",
      "9          9    464\n",
      "10        10    465\n",
      "\n",
      "====================================================================================================\n",
      "\n",
      "\n",
      "\n",
      "\n"
     ]
    }
   ],
   "source": [
    "# ----------------------------------------------------------------------------------------------------\n",
    "# \"Warranty\"컬럼 오류값 검사 \n",
    "\n",
    "# 범주화를 통해 오류값 검사\n",
    "result = learning[\"Warranty\"].value_counts().reset_index()\n",
    "\n",
    "result.sort_values(by=\"Warranty\",\n",
    "                   ascending=True,\n",
    "                   ignore_index=True,\n",
    "                   inplace=True)\n",
    "\n",
    "# 범주값 출력 / 오류값 없음 \n",
    "visualizer.show_data(title=\"Warranty Categorization\", data=result)\n",
    "# ----------------------------------------------------------------------------------------------------"
   ]
  },
  {
   "cell_type": "code",
   "execution_count": 10,
   "metadata": {},
   "outputs": [
    {
     "name": "stdout",
     "output_type": "stream",
     "text": [
      "====================================================================================================\n",
      "\n",
      "# Title: Accident Categorization\n",
      "\n",
      "====================================================================================================\n",
      "\n",
      "# Data:\n",
      "\n",
      "  Accident  count\n",
      "0       No   6443\n",
      "1      Yes    304\n",
      "\n",
      "====================================================================================================\n",
      "\n",
      "\n",
      "\n",
      "\n"
     ]
    }
   ],
   "source": [
    "# ----------------------------------------------------------------------------------------------------\n",
    "# \"Accident\"컬럼 오류값 검사 \n",
    "\n",
    "# 범주화를 통해 오류값 검사\n",
    "result = learning[\"Accident\"].value_counts().reset_index()\n",
    "\n",
    "result.sort_values(by=\"Accident\",\n",
    "                   ascending=True,\n",
    "                   ignore_index=True,\n",
    "                   inplace=True)\n",
    "\n",
    "# 범주값 출력 / 오류값 없음 \n",
    "visualizer.show_data(title=\"Accident Categorization\", data=result)\n",
    "# ----------------------------------------------------------------------------------------------------"
   ]
  },
  {
   "cell_type": "code",
   "execution_count": 11,
   "metadata": {},
   "outputs": [
    {
     "name": "stdout",
     "output_type": "stream",
     "text": [
      "====================================================================================================\n",
      "\n",
      "# Title: Condition Categorization\n",
      "\n",
      "====================================================================================================\n",
      "\n",
      "# Data:\n",
      "\n",
      "    Condition  count\n",
      "0   Brand New   3027\n",
      "1  Nearly New   1863\n",
      "2   Pre-Owned   1857\n",
      "\n",
      "====================================================================================================\n",
      "\n",
      "\n",
      "\n",
      "\n"
     ]
    }
   ],
   "source": [
    "# ----------------------------------------------------------------------------------------------------\n",
    "# \"Condition\"컬럼 오류값 검사 \n",
    "\n",
    "# 범주화를 통해 오류값 검사\n",
    "result = learning[\"Condition\"].value_counts().reset_index()\n",
    "\n",
    "result.sort_values(by=\"Condition\",\n",
    "                   ascending=True,\n",
    "                   ignore_index=True,\n",
    "                   inplace=True)\n",
    "\n",
    "# 범주값 출력 / 오류값 없음 \n",
    "visualizer.show_data(title=\"Condition Categorization\", data=result)\n",
    "# ----------------------------------------------------------------------------------------------------"
   ]
  },
  {
   "cell_type": "code",
   "execution_count": 12,
   "metadata": {},
   "outputs": [
    {
     "name": "stdout",
     "output_type": "stream",
     "text": [
      "====================================================================================================\n",
      "\n",
      "# Title: Battery Error\n",
      "\n",
      "====================================================================================================\n",
      "\n",
      "# Data:\n",
      "\n",
      "Series([], Name: Battery, dtype: float64)\n",
      "\n",
      "====================================================================================================\n",
      "\n",
      "\n",
      "\n",
      "\n"
     ]
    }
   ],
   "source": [
    "# ----------------------------------------------------------------------------------------------------\n",
    "# \"Battery\"컬럼 오류값 검사 \n",
    "# \"Battery\"의 값은 0 이상이어야 함\n",
    "\n",
    "# 0 미만의 값 탐색 \n",
    "result = learning.loc[learning[\"Battery\"] < 0, \"Battery\"]\n",
    "\n",
    "# 오류값 출력 / 오류값 없음 \n",
    "visualizer.show_data(title=\"Battery Error\", data=result)\n",
    "# ----------------------------------------------------------------------------------------------------"
   ]
  },
  {
   "cell_type": "code",
   "execution_count": 13,
   "metadata": {},
   "outputs": [
    {
     "name": "stdout",
     "output_type": "stream",
     "text": [
      "====================================================================================================\n",
      "\n",
      "# Title: Mileage Error\n",
      "\n",
      "====================================================================================================\n",
      "\n",
      "# Data:\n",
      "\n",
      "Series([], Name: Mileage, dtype: int64)\n",
      "\n",
      "====================================================================================================\n",
      "\n",
      "\n",
      "\n",
      "\n"
     ]
    }
   ],
   "source": [
    "# ----------------------------------------------------------------------------------------------------\n",
    "# \"Mileage\"컬럼 오류값 검사 \n",
    "# \"Mileage\"의 값은 0 이상이어야 함\n",
    "\n",
    "# 0 미만의 값 탐색 \n",
    "result = learning.loc[learning[\"Mileage\"] < 0, \"Mileage\"]\n",
    "\n",
    "# 오류값 출력 / 오류값 없음 \n",
    "visualizer.show_data(title=\"Mileage Error\", data=result)\n",
    "# ----------------------------------------------------------------------------------------------------"
   ]
  },
  {
   "cell_type": "code",
   "execution_count": 14,
   "metadata": {},
   "outputs": [
    {
     "name": "stdout",
     "output_type": "stream",
     "text": [
      "====================================================================================================\n",
      "\n",
      "# Title: Price Error\n",
      "\n",
      "====================================================================================================\n",
      "\n",
      "# Data:\n",
      "\n",
      "Series([], Name: Price, dtype: float64)\n",
      "\n",
      "====================================================================================================\n",
      "\n",
      "\n",
      "\n",
      "\n"
     ]
    }
   ],
   "source": [
    "# ----------------------------------------------------------------------------------------------------\n",
    "# \"Price\"컬럼 오류값 검사 \n",
    "# \"Price\"의 값은 0 이상이어야 함\n",
    "\n",
    "# 0 미만의 값 탐색 \n",
    "result = learning.loc[learning[\"Price\"] < 0, \"Price\"]\n",
    "\n",
    "# 오류값 출력 / 오류값 없음 \n",
    "visualizer.show_data(title=\"Price Error\", data=result)\n",
    "# ----------------------------------------------------------------------------------------------------"
   ]
  }
 ],
 "metadata": {
  "kernelspec": {
   "display_name": "py3",
   "language": "python",
   "name": "python3"
  },
  "language_info": {
   "codemirror_mode": {
    "name": "ipython",
    "version": 3
   },
   "file_extension": ".py",
   "mimetype": "text/x-python",
   "name": "python",
   "nbconvert_exporter": "python",
   "pygments_lexer": "ipython3",
   "version": "3.12.8"
  }
 },
 "nbformat": 4,
 "nbformat_minor": 2
}
