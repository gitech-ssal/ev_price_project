{
 "cells": [
  {
   "cell_type": "code",
   "execution_count": 1,
   "metadata": {},
   "outputs": [],
   "source": [
    "# ----------------------------------------------------------------------------------------------------\n",
    "# 라이브러리 목록\n",
    "\n",
    "# 기본 라이브러리 \n",
    "import numpy as np\n",
    "import pandas as pd\n",
    "\n",
    "# 시각화 라이브러리 \n",
    "import matplotlib\n",
    "import matplotlib.pyplot as plt\n",
    "import seaborn as sns\n",
    "\n",
    "# sklearn라이브러리 \n",
    "from sklearn.cluster import KMeans\n",
    "from sklearn.neighbors import KNeighborsRegressor\n",
    "\n",
    "# 개인 라이브러리 \n",
    "from preparation_for_analysis.show_window import DataVisualizer\n",
    "\n",
    "# pandas 설정\n",
    "pd.set_option('display.max_rows', None)  # 모든 행 출력\n",
    "pd.set_option('display.max_columns', None)  # 모든 열 출력\n",
    "\n",
    "# matplotlib 설정\n",
    "matplotlib.rcParams['font.family'] = 'Malgun Gothic'  # 윈도우에서 사용하는 한글 폰트\n",
    "matplotlib.rcParams['axes.unicode_minus'] = False  # 음수 기호 문제 해결\n",
    "\n",
    "# preparation_for_analysis 설정\n",
    "visualizer = DataVisualizer(line=\"=\", length=100, start=\"#\")\n",
    "# ----------------------------------------------------------------------------------------------------"
   ]
  },
  {
   "cell_type": "code",
   "execution_count": 2,
   "metadata": {},
   "outputs": [
    {
     "name": "stdout",
     "output_type": "stream",
     "text": [
      "====================================================================================================\n",
      "\n",
      "# Title: learning.info\n",
      "\n",
      "====================================================================================================\n",
      "\n",
      "# DataFrame Information:\n",
      "\n",
      "<class 'pandas.core.frame.DataFrame'>\n",
      "RangeIndex: 6747 entries, 0 to 6746\n",
      "Data columns (total 11 columns):\n",
      " #   Column        Non-Null Count  Dtype  \n",
      "---  ------        --------------  -----  \n",
      " 0   Id            6747 non-null   object \n",
      " 1   Model         6747 non-null   object \n",
      " 2   Manufacturer  6747 non-null   object \n",
      " 3   Model_year    6747 non-null   int64  \n",
      " 4   Drivetrain    6747 non-null   object \n",
      " 5   Warranty      6747 non-null   int64  \n",
      " 6   Accident      6747 non-null   object \n",
      " 7   Condition     6747 non-null   object \n",
      " 8   Battery       4317 non-null   float64\n",
      " 9   Mileage       6747 non-null   int64  \n",
      " 10  Price         6747 non-null   float64\n",
      "dtypes: float64(2), int64(3), object(6)\n",
      "memory usage: 579.9+ KB\n",
      "\n",
      "====================================================================================================\n",
      "\n",
      "\n",
      "\n",
      "\n"
     ]
    }
   ],
   "source": [
    "# ----------------------------------------------------------------------------------------------------\n",
    "# learning 불러오기 \n",
    "learning = pd.read_csv(\n",
    "    \"C:\\\\Users\\\\ssalt\\\\Documents\\\\ev_price_predict_project\\\\data\\\\train\\\\A_df\\\\c_learning\\\\1_learning.csv\",\n",
    "    sep=\",\",\n",
    "    header=0\n",
    ")\n",
    "\n",
    "visualizer.show_df_info(title=\"learning.info\", df=learning)\n",
    "# ----------------------------------------------------------------------------------------------------"
   ]
  },
  {
   "cell_type": "code",
   "execution_count": null,
   "metadata": {},
   "outputs": [],
   "source": [
    "# ----------------------------------------------------------------------------------------------------\n",
    "# 시각화 결과 종합 \n",
    "\n",
    "# \"Condition\" 컬럼과 \"Mileage\"컬럼은 관계가 있음 \n",
    "\"\"\"\n",
    "\"Brand New\": 0 ~ 10000\n",
    "\"Nearly New\": 10000 ~ 50000\n",
    "\"Pre-Owned\": 50000 ~ 200000\n",
    "\"\"\"\n",
    "\n",
    "# \"Warranty\" 컬럼과 \"Battery\"컬럼의 값이 관계가 있음 \n",
    "# 대부분 Warranty 의 값 1개 당 Battery값이 1개로 되어 있으며 예외로 2~4개로 할당되어 있는 경우가 있음 \n",
    "# 예외 상황이라도 가격 구간이 동일함 \n",
    "# 이는 Battery 컬럼이 Warranty당 평균 배터리 잔량 값일 가능성이 있음\n",
    "# 여러개로 할당된 경우는 데이터가 기록된 시점이 달라서 생긴 경우라고 파악됨 \n",
    "\n",
    "# \"Battery\"컬럼 결측값 해결\n",
    "# 결측치를 해당되는 보증기간의 평균 배터리 잔량값으로 가정 \n",
    "\n",
    "# ----------------------------------------------------------------------------------------------------"
   ]
  }
 ],
 "metadata": {
  "kernelspec": {
   "display_name": "py3",
   "language": "python",
   "name": "python3"
  },
  "language_info": {
   "codemirror_mode": {
    "name": "ipython",
    "version": 3
   },
   "file_extension": ".py",
   "mimetype": "text/x-python",
   "name": "python",
   "nbconvert_exporter": "python",
   "pygments_lexer": "ipython3",
   "version": "3.12.8"
  }
 },
 "nbformat": 4,
 "nbformat_minor": 2
}
